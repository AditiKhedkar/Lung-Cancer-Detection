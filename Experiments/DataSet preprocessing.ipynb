{
 "cells": [
  {
   "cell_type": "code",
   "execution_count": 1,
   "id": "1be650ae",
   "metadata": {},
   "outputs": [],
   "source": [
    "import os\n",
    "import pylidc as pl\n",
    "from pylidc.utils import consensus\n",
    "from configparser import ConfigParser\n",
    "import matplotlib.pyplot as plt\n",
    "from statistics import median_high\n",
    "import numpy as np\n",
    "import pandas as pd\n",
    "from pathlib import Path\n",
    "import preprocessing\n",
    "from tqdm import tqdm"
   ]
  },
  {
   "cell_type": "code",
   "execution_count": 2,
   "id": "e2438186",
   "metadata": {},
   "outputs": [],
   "source": [
    "DataSet_root = \"./LIDC-IDRI\"\n",
    "Processed_data_dir = './data'\n",
    "IMAGE_DIR = '/IMAGE'\n",
    "MASK_DIR = '/MASK'\n",
    "mask_thresh = 8"
   ]
  },
  {
   "cell_type": "code",
   "execution_count": null,
   "id": "34fa8849",
   "metadata": {},
   "outputs": [],
   "source": [
    "\n",
    "\n"
   ]
  },
  {
   "cell_type": "code",
   "execution_count": null,
   "id": "598d6c11",
   "metadata": {},
   "outputs": [],
   "source": [
    "for patient in patients:\n",
    "    pid = patient\n",
    "    scan = pl.query(pl.Scan).filter(pl.Scan.patient_id == pid).first()\n",
    "    \n",
    "    nodule_annotations = scan.cluster_annotations()\n",
    "    vol = scan.to_volume()\n",
    "    patient_img_dir = Processed_data_dir + IMAGE_DIR + '/' + pid\n",
    "    patient_mask_dir = Processed_data_dir + MASK_DIR + '/' + pid\n",
    "    \n",
    "    if(len(nodule_annotations)>0):\n",
    "        for i,nodule in enumerate(nodule_annotations):\n",
    "            print(\"Index{} Nodule{}\".format(i,*nodule))\n",
    "     "
   ]
  },
  {
   "cell_type": "code",
   "execution_count": null,
   "id": "4d3790bd",
   "metadata": {},
   "outputs": [],
   "source": []
  },
  {
   "cell_type": "code",
   "execution_count": 18,
   "id": "8591c80d",
   "metadata": {},
   "outputs": [],
   "source": [
    "class prep_ds:\n",
    "    DataSet_root = \"./LIDC-IDRI\"\n",
    "    Processed_data_dir = './data'\n",
    "    IMAGE_DIR = Processed_data_dir+ \"/Image\"\n",
    "    MASK_DIR = Processed_data_dir +\"/Mask\"\n",
    "    Clean_IMAGE_DIR =Processed_data_dir + '/CleanIMAGE'\n",
    "    Clean_MASK_DIR = Processed_data_dir +'/CleanMASK'\n",
    "    mask_thresh = 8\n",
    "\n",
    "    dataFrame = pd.DataFrame(index=[],columns=['patient_id','nodule_no','slice_no','original_image','mask_image','malignancy','is_cancer','is_clean'])\n",
    "    def save_dataFrame(self,meta_list):\n",
    "      #saves list to csv\n",
    "        tmp = pd.Series(meta_list,index=['patient_id','nodule_no','slice_no','original_image','mask_image','malignancy','is_cancer','is_clean'])\n",
    "        self.dataFrame = self.dataFrame.append(tmp,ignore_index=True)\n",
    "    def calc_malignancy(self,nodule):\n",
    "        list_malignancy = []\n",
    "        for annotation in nodule:\n",
    "            list_malignancy.append(annotation.malignancy)\n",
    "        malignancy = median_high(list_malignancy)\n",
    "        if(malignancy>3):\n",
    "            return malignancy,True\n",
    "        if(malignancy<3):\n",
    "            return malignancy,False\n",
    "        else:\n",
    "            return malignancy,\"Ambiguous\"\n",
    "\n",
    "    \n",
    "    def prepare_dataset(self):\n",
    "            if not os.path.exists(self.IMAGE_DIR):\n",
    "                os.makedirs(self.IMAGE_DIR)\n",
    "            if not os.path.exists(self.MASK_DIR):\n",
    "                os.makedirs(self.MASK_DIR)\n",
    "            if not os.path.exists(self.Clean_IMAGE_DIR):\n",
    "                os.makedirs(self.Clean_IMAGE_DIR)\n",
    "            if not os.path.exists(self.Clean_MASK_DIR):\n",
    "                os.makedirs(self.Clean_MASK_DIR)\n",
    "            patients = os.listdir(DataSet_root)\n",
    "\n",
    "            for patient in tqdm(patients):\n",
    "                pid = patient\n",
    "              \n",
    "                scan = pl.query(pl.Scan).filter(pl.Scan.patient_id == pid).first()\n",
    "\n",
    "                nodule_annotations = scan.cluster_annotations()\n",
    "                vol = scan.to_volume()\n",
    "      \n",
    "                patient_img_dir = Processed_data_dir + IMAGE_DIR + '/' + pid\n",
    "                patient_mask_dir = Processed_data_dir + MASK_DIR + '/' + pid\n",
    "                Path(patient_img_dir).mkdir(parents=True, exist_ok=True)\n",
    "                Path(patient_mask_dir).mkdir(parents=True, exist_ok=True)\n",
    "\n",
    "\n",
    "                if(len(nodule_annotations)>0):\n",
    "\n",
    "                    #nodules present\n",
    "                    for i,nodule in enumerate(nodule_annotations):\n",
    "\n",
    "                        mask,cbbox,masks = pl.utils.consensus(nodule,0.5,512)\n",
    "                        lung_np = vol[cbbox]\n",
    "                        malignancy,cancer_label = self.calc_malignancy(nodule)\n",
    "                        for mask_slice in range(mask.shape[2]):\n",
    "\n",
    "                            if(np.sum(mask[:,:,mask_slice])<=mask_thresh):\n",
    "                                continue\n",
    "                            segmented_lung = preprocessing.preprocess_image(lung_np[:,:,mask_thresh])\n",
    "                            nodule_name =  \"Nodule\"+ str(i) +\"Slice\" +  str(mask_slice)\n",
    "                            mask_name =  \"Mask\"+ str(i) +\"Slice\" +  str(mask_slice)\n",
    "                            # to save pid nodule index slice index mask name malignancy cancer label is data clean of possible cancer\n",
    "                            meta_list = [pid[-4:],i,mask_slice,patient_img_dir+ '/' +nodule_name,patient_mask_dir+ '/' +mask_name,malignancy,cancer_label,False]\n",
    "                            self.save_dataFrame(meta_list)\n",
    "                            print(\"Writing image to\",patient_img_dir)\n",
    "                            np.save(patient_img_dir+ '/' +nodule_name,segmented_lung)\n",
    "                            np.save(patient_mask_dir+ '/' +mask_name,mask[:,:,mask_slice])\n",
    "                else:\n",
    "                    print(\"no nodules\",pid)\n",
    "                    cleanpatient_img_dir = self.Processed_data_dir + self.Clean_IMAGE_DIR + '/' + pid\n",
    "                    cleanpatient_mask_dir = self.Processed_data_dir + self.Clean_MASK_DIR + '/' + pid\n",
    "                    Path(cleanpatient_img_dir).mkdir(parents=True, exist_ok=True)\n",
    "                    Path(cleanpatient_mask_dir).mkdir(parents=True, exist_ok=True)\n",
    "                 \n",
    "                    for slice in range(vol.shape[2]):\n",
    "                        if(slice>50):\n",
    "                            break\n",
    "                        segmented_lung = preprocessing.preprocess_image(lung_np[:,:,mask_thresh])\n",
    "                        lung_mask = np.zeros_like(segmented_lung)\n",
    "                        nodule_name = \"Nodule\"+ str(i) +\"Slice\" +  str(slice)\n",
    "                        mask_name = \"Mask\"+ str(i) +\"Slice\" +  str(slice)\n",
    "                        meta_list = [pid[-4:],i,mask_slice,cleanpatient_img_dir+ '/' +nodule_name,cleanpatient_img_dir+ '/' +mask_name,0,False,True]\n",
    "                        np.save(cleanpatient_img_dir+ '/' +nodule_name,segmented_lung)\n",
    "                        np.save(cleanpatient_img_dir+ '/' +mask_name,mask[:,:,mask_slice])                    \n",
    "                    \n",
    "                    \n",
    "                print(\"Saving CSV\")\n",
    "                self.dataFrame.to_csv(self.Processed_data_dir + \"/dataset.csv\",index = False)\n",
    "                    \n",
    "                    \n",
    "\n",
    "\n",
    "\n",
    "                \n",
    "               \n",
    "            \n",
    "            \n",
    "            \n",
    "            "
   ]
  },
  {
   "cell_type": "code",
   "execution_count": 19,
   "id": "c7960448",
   "metadata": {},
   "outputs": [
    {
     "name": "stderr",
     "output_type": "stream",
     "text": [
      "\r",
      "  0%|                                                                                                                                                                                                                                                                                              | 0/30 [00:00<?, ?it/s]"
     ]
    },
    {
     "name": "stdout",
     "output_type": "stream",
     "text": [
      "Loading dicom files ... This may take a moment.\n",
      "Writing image to ./data/IMAGE/LIDC-IDRI-0001\n",
      "Writing image to ./data/IMAGE/LIDC-IDRI-0001\n",
      "Writing image to ./data/IMAGE/LIDC-IDRI-0001\n",
      "Writing image to ./data/IMAGE/LIDC-IDRI-0001\n",
      "Writing image to ./data/IMAGE/LIDC-IDRI-0001\n",
      "Writing image to ./data/IMAGE/LIDC-IDRI-0001\n",
      "Writing image to ./data/IMAGE/LIDC-IDRI-0001\n"
     ]
    },
    {
     "name": "stderr",
     "output_type": "stream",
     "text": [
      "\r",
      "  3%|█████████▎                                                                                                                                                                                                                                                                            | 1/30 [00:11<05:41, 11.78s/it]"
     ]
    },
    {
     "name": "stdout",
     "output_type": "stream",
     "text": [
      "Writing image to ./data/IMAGE/LIDC-IDRI-0001\n",
      "Saving CSV\n",
      "Loading dicom files ... This may take a moment.\n",
      "Writing image to ./data/IMAGE/LIDC-IDRI-0002\n",
      "Writing image to ./data/IMAGE/LIDC-IDRI-0002\n",
      "Writing image to ./data/IMAGE/LIDC-IDRI-0002\n",
      "Writing image to ./data/IMAGE/LIDC-IDRI-0002\n",
      "Writing image to ./data/IMAGE/LIDC-IDRI-0002\n",
      "Writing image to ./data/IMAGE/LIDC-IDRI-0002\n",
      "Writing image to ./data/IMAGE/LIDC-IDRI-0002\n",
      "Writing image to ./data/IMAGE/LIDC-IDRI-0002\n",
      "Writing image to ./data/IMAGE/LIDC-IDRI-0002\n",
      "Writing image to ./data/IMAGE/LIDC-IDRI-0002\n",
      "Writing image to ./data/IMAGE/LIDC-IDRI-0002\n",
      "Writing image to ./data/IMAGE/LIDC-IDRI-0002\n",
      "Writing image to ./data/IMAGE/LIDC-IDRI-0002\n",
      "Writing image to ./data/IMAGE/LIDC-IDRI-0002\n",
      "Writing image to ./data/IMAGE/LIDC-IDRI-0002\n",
      "Writing image to ./data/IMAGE/LIDC-IDRI-0002\n",
      "Writing image to ./data/IMAGE/LIDC-IDRI-0002\n",
      "Writing image to ./data/IMAGE/LIDC-IDRI-0002\n",
      "Writing image to ./data/IMAGE/LIDC-IDRI-0002\n",
      "Writing image to ./data/IMAGE/LIDC-IDRI-0002\n",
      "Writing image to ./data/IMAGE/LIDC-IDRI-0002\n",
      "Writing image to ./data/IMAGE/LIDC-IDRI-0002\n",
      "Writing image to ./data/IMAGE/LIDC-IDRI-0002\n",
      "Writing image to ./data/IMAGE/LIDC-IDRI-0002\n",
      "Writing image to ./data/IMAGE/LIDC-IDRI-0002\n",
      "Writing image to ./data/IMAGE/LIDC-IDRI-0002\n",
      "Writing image to ./data/IMAGE/LIDC-IDRI-0002\n"
     ]
    },
    {
     "name": "stderr",
     "output_type": "stream",
     "text": [
      "\r",
      "  7%|██████████████████▌                                                                                                                                                                                                                                                                   | 2/30 [00:35<08:50, 18.93s/it]"
     ]
    },
    {
     "name": "stdout",
     "output_type": "stream",
     "text": [
      "Writing image to ./data/IMAGE/LIDC-IDRI-0002\n",
      "Saving CSV\n",
      "Loading dicom files ... This may take a moment.\n",
      "Writing image to ./data/IMAGE/LIDC-IDRI-0003\n",
      "Writing image to ./data/IMAGE/LIDC-IDRI-0003\n",
      "Writing image to ./data/IMAGE/LIDC-IDRI-0003\n",
      "Writing image to ./data/IMAGE/LIDC-IDRI-0003\n",
      "Writing image to ./data/IMAGE/LIDC-IDRI-0003\n",
      "Writing image to ./data/IMAGE/LIDC-IDRI-0003\n",
      "Writing image to ./data/IMAGE/LIDC-IDRI-0003\n",
      "Writing image to ./data/IMAGE/LIDC-IDRI-0003\n",
      "Writing image to ./data/IMAGE/LIDC-IDRI-0003\n",
      "Writing image to ./data/IMAGE/LIDC-IDRI-0003\n",
      "Writing image to ./data/IMAGE/LIDC-IDRI-0003\n",
      "Writing image to ./data/IMAGE/LIDC-IDRI-0003\n",
      "Writing image to ./data/IMAGE/LIDC-IDRI-0003\n",
      "Writing image to ./data/IMAGE/LIDC-IDRI-0003\n",
      "Writing image to ./data/IMAGE/LIDC-IDRI-0003\n",
      "Writing image to ./data/IMAGE/LIDC-IDRI-0003\n",
      "Writing image to ./data/IMAGE/LIDC-IDRI-0003\n",
      "Writing image to ./data/IMAGE/LIDC-IDRI-0003\n",
      "Writing image to ./data/IMAGE/LIDC-IDRI-0003\n",
      "Writing image to ./data/IMAGE/LIDC-IDRI-0003\n",
      "Writing image to ./data/IMAGE/LIDC-IDRI-0003\n",
      "Writing image to ./data/IMAGE/LIDC-IDRI-0003\n",
      "Writing image to ./data/IMAGE/LIDC-IDRI-0003\n"
     ]
    },
    {
     "name": "stderr",
     "output_type": "stream",
     "text": [
      "\r",
      " 10%|███████████████████████████▊                                                                                                                                                                                                                                                          | 3/30 [01:01<09:54, 22.00s/it]"
     ]
    },
    {
     "name": "stdout",
     "output_type": "stream",
     "text": [
      "Writing image to ./data/IMAGE/LIDC-IDRI-0003\n",
      "Saving CSV\n",
      "Loading dicom files ... This may take a moment.\n",
      "Writing image to ./data/IMAGE/LIDC-IDRI-0004\n",
      "Writing image to ./data/IMAGE/LIDC-IDRI-0004\n",
      "Writing image to ./data/IMAGE/LIDC-IDRI-0004\n",
      "Writing image to ./data/IMAGE/LIDC-IDRI-0004\n"
     ]
    },
    {
     "name": "stderr",
     "output_type": "stream",
     "text": [
      "\r",
      " 13%|█████████████████████████████████████                                                                                                                                                                                                                                                 | 4/30 [01:07<06:44, 15.57s/it]"
     ]
    },
    {
     "name": "stdout",
     "output_type": "stream",
     "text": [
      "Saving CSV\n",
      "Loading dicom files ... This may take a moment.\n",
      "Writing image to ./data/IMAGE/LIDC-IDRI-0005\n",
      "Writing image to ./data/IMAGE/LIDC-IDRI-0005\n",
      "Writing image to ./data/IMAGE/LIDC-IDRI-0005\n",
      "Writing image to ./data/IMAGE/LIDC-IDRI-0005\n",
      "Writing image to ./data/IMAGE/LIDC-IDRI-0005\n",
      "Writing image to ./data/IMAGE/LIDC-IDRI-0005\n"
     ]
    },
    {
     "name": "stderr",
     "output_type": "stream",
     "text": [
      "\r",
      " 17%|██████████████████████████████████████████████▎                                                                                                                                                                                                                                       | 5/30 [01:15<05:24, 12.99s/it]"
     ]
    },
    {
     "name": "stdout",
     "output_type": "stream",
     "text": [
      "Writing image to ./data/IMAGE/LIDC-IDRI-0005\n",
      "Saving CSV\n",
      "Loading dicom files ... This may take a moment.\n",
      "Writing image to ./data/IMAGE/LIDC-IDRI-0006\n",
      "Writing image to ./data/IMAGE/LIDC-IDRI-0006\n",
      "Writing image to ./data/IMAGE/LIDC-IDRI-0006\n",
      "Writing image to ./data/IMAGE/LIDC-IDRI-0006\n",
      "Writing image to ./data/IMAGE/LIDC-IDRI-0006\n",
      "Writing image to ./data/IMAGE/LIDC-IDRI-0006\n",
      "Writing image to ./data/IMAGE/LIDC-IDRI-0006\n",
      "Writing image to ./data/IMAGE/LIDC-IDRI-0006\n"
     ]
    },
    {
     "name": "stderr",
     "output_type": "stream",
     "text": [
      "\r",
      " 20%|███████████████████████████████████████████████████████▌                                                                                                                                                                                                                              | 6/30 [01:25<04:44, 11.84s/it]"
     ]
    },
    {
     "name": "stdout",
     "output_type": "stream",
     "text": [
      "Writing image to ./data/IMAGE/LIDC-IDRI-0006\n",
      "Saving CSV\n",
      "Loading dicom files ... This may take a moment.\n",
      "Writing image to ./data/IMAGE/LIDC-IDRI-0007\n",
      "Writing image to ./data/IMAGE/LIDC-IDRI-0007\n",
      "Writing image to ./data/IMAGE/LIDC-IDRI-0007\n",
      "Writing image to ./data/IMAGE/LIDC-IDRI-0007\n",
      "Writing image to ./data/IMAGE/LIDC-IDRI-0007\n",
      "Writing image to ./data/IMAGE/LIDC-IDRI-0007\n",
      "Writing image to ./data/IMAGE/LIDC-IDRI-0007\n",
      "Writing image to ./data/IMAGE/LIDC-IDRI-0007\n",
      "Writing image to ./data/IMAGE/LIDC-IDRI-0007\n",
      "Writing image to ./data/IMAGE/LIDC-IDRI-0007\n",
      "Writing image to ./data/IMAGE/LIDC-IDRI-0007\n",
      "Writing image to ./data/IMAGE/LIDC-IDRI-0007\n",
      "Writing image to ./data/IMAGE/LIDC-IDRI-0007\n",
      "Writing image to ./data/IMAGE/LIDC-IDRI-0007\n",
      "Writing image to ./data/IMAGE/LIDC-IDRI-0007\n",
      "Writing image to ./data/IMAGE/LIDC-IDRI-0007\n",
      "Writing image to ./data/IMAGE/LIDC-IDRI-0007\n",
      "Writing image to ./data/IMAGE/LIDC-IDRI-0007\n",
      "Writing image to ./data/IMAGE/LIDC-IDRI-0007\n",
      "Writing image to ./data/IMAGE/LIDC-IDRI-0007\n",
      "Writing image to ./data/IMAGE/LIDC-IDRI-0007\n",
      "Writing image to ./data/IMAGE/LIDC-IDRI-0007\n",
      "Writing image to ./data/IMAGE/LIDC-IDRI-0007\n"
     ]
    },
    {
     "name": "stderr",
     "output_type": "stream",
     "text": [
      "\r",
      " 23%|████████████████████████████████████████████████████████████████▊                                                                                                                                                                                                                     | 7/30 [01:50<06:14, 16.26s/it]"
     ]
    },
    {
     "name": "stdout",
     "output_type": "stream",
     "text": [
      "Writing image to ./data/IMAGE/LIDC-IDRI-0007\n",
      "Saving CSV\n",
      "Loading dicom files ... This may take a moment.\n",
      "Writing image to ./data/IMAGE/LIDC-IDRI-0008\n",
      "Writing image to ./data/IMAGE/LIDC-IDRI-0008\n",
      "Writing image to ./data/IMAGE/LIDC-IDRI-0008\n"
     ]
    },
    {
     "name": "stderr",
     "output_type": "stream",
     "text": [
      "\r",
      " 27%|██████████████████████████████████████████████████████████████████████████▏                                                                                                                                                                                                           | 8/30 [01:56<04:43, 12.90s/it]"
     ]
    },
    {
     "name": "stdout",
     "output_type": "stream",
     "text": [
      "Writing image to ./data/IMAGE/LIDC-IDRI-0008\n",
      "Saving CSV\n",
      "Loading dicom files ... This may take a moment.\n",
      "Writing image to ./data/IMAGE/LIDC-IDRI-0009\n",
      "Writing image to ./data/IMAGE/LIDC-IDRI-0009\n",
      "Writing image to ./data/IMAGE/LIDC-IDRI-0009\n",
      "Writing image to ./data/IMAGE/LIDC-IDRI-0009\n",
      "Writing image to ./data/IMAGE/LIDC-IDRI-0009\n"
     ]
    },
    {
     "name": "stderr",
     "output_type": "stream",
     "text": [
      "\r",
      " 30%|███████████████████████████████████████████████████████████████████████████████████▍                                                                                                                                                                                                  | 9/30 [02:03<03:51, 11.03s/it]"
     ]
    },
    {
     "name": "stdout",
     "output_type": "stream",
     "text": [
      "Writing image to ./data/IMAGE/LIDC-IDRI-0009\n",
      "Saving CSV\n",
      "Loading dicom files ... This may take a moment.\n",
      "Writing image to ./data/IMAGE/LIDC-IDRI-0010\n",
      "Writing image to ./data/IMAGE/LIDC-IDRI-0010\n",
      "Writing image to ./data/IMAGE/LIDC-IDRI-0010\n",
      "Writing image to ./data/IMAGE/LIDC-IDRI-0010\n",
      "Writing image to ./data/IMAGE/LIDC-IDRI-0010\n",
      "Writing image to ./data/IMAGE/LIDC-IDRI-0010\n",
      "Writing image to ./data/IMAGE/LIDC-IDRI-0010\n",
      "Writing image to ./data/IMAGE/LIDC-IDRI-0010\n"
     ]
    },
    {
     "name": "stderr",
     "output_type": "stream",
     "text": [
      "\r",
      " 33%|████████████████████████████████████████████████████████████████████████████████████████████▎                                                                                                                                                                                        | 10/30 [02:14<03:45, 11.29s/it]"
     ]
    },
    {
     "name": "stdout",
     "output_type": "stream",
     "text": [
      "Writing image to ./data/IMAGE/LIDC-IDRI-0010\n",
      "Saving CSV\n",
      "Loading dicom files ... This may take a moment.\n",
      "Writing image to ./data/IMAGE/LIDC-IDRI-0011\n",
      "Writing image to ./data/IMAGE/LIDC-IDRI-0011\n",
      "Writing image to ./data/IMAGE/LIDC-IDRI-0011\n",
      "Writing image to ./data/IMAGE/LIDC-IDRI-0011\n",
      "Writing image to ./data/IMAGE/LIDC-IDRI-0011\n",
      "Writing image to ./data/IMAGE/LIDC-IDRI-0011\n",
      "Writing image to ./data/IMAGE/LIDC-IDRI-0011\n",
      "Writing image to ./data/IMAGE/LIDC-IDRI-0011\n",
      "Writing image to ./data/IMAGE/LIDC-IDRI-0011\n",
      "Writing image to ./data/IMAGE/LIDC-IDRI-0011\n",
      "Writing image to ./data/IMAGE/LIDC-IDRI-0011\n",
      "Writing image to ./data/IMAGE/LIDC-IDRI-0011\n",
      "Writing image to ./data/IMAGE/LIDC-IDRI-0011\n",
      "Writing image to ./data/IMAGE/LIDC-IDRI-0011\n",
      "Writing image to ./data/IMAGE/LIDC-IDRI-0011\n",
      "Writing image to ./data/IMAGE/LIDC-IDRI-0011\n",
      "Writing image to ./data/IMAGE/LIDC-IDRI-0011\n",
      "Writing image to ./data/IMAGE/LIDC-IDRI-0011\n",
      "Writing image to ./data/IMAGE/LIDC-IDRI-0011\n",
      "Writing image to ./data/IMAGE/LIDC-IDRI-0011\n",
      "Writing image to ./data/IMAGE/LIDC-IDRI-0011\n",
      "Writing image to ./data/IMAGE/LIDC-IDRI-0011\n",
      "Writing image to ./data/IMAGE/LIDC-IDRI-0011\n",
      "Writing image to ./data/IMAGE/LIDC-IDRI-0011\n",
      "Writing image to ./data/IMAGE/LIDC-IDRI-0011\n",
      "Writing image to ./data/IMAGE/LIDC-IDRI-0011\n"
     ]
    },
    {
     "name": "stderr",
     "output_type": "stream",
     "text": [
      "\r",
      " 37%|█████████████████████████████████████████████████████████████████████████████████████████████████████▌                                                                                                                                                                               | 11/30 [02:42<05:06, 16.11s/it]"
     ]
    },
    {
     "name": "stdout",
     "output_type": "stream",
     "text": [
      "Writing image to ./data/IMAGE/LIDC-IDRI-0011\n",
      "Saving CSV\n",
      "Loading dicom files ... This may take a moment.\n",
      "Writing image to ./data/IMAGE/LIDC-IDRI-0012\n",
      "Writing image to ./data/IMAGE/LIDC-IDRI-0012\n",
      "Writing image to ./data/IMAGE/LIDC-IDRI-0012\n",
      "Writing image to ./data/IMAGE/LIDC-IDRI-0012\n",
      "Writing image to ./data/IMAGE/LIDC-IDRI-0012\n",
      "Writing image to ./data/IMAGE/LIDC-IDRI-0012\n",
      "Writing image to ./data/IMAGE/LIDC-IDRI-0012\n",
      "Writing image to ./data/IMAGE/LIDC-IDRI-0012\n",
      "Writing image to ./data/IMAGE/LIDC-IDRI-0012\n",
      "Writing image to ./data/IMAGE/LIDC-IDRI-0012\n",
      "Writing image to ./data/IMAGE/LIDC-IDRI-0012\n",
      "Writing image to ./data/IMAGE/LIDC-IDRI-0012\n",
      "Writing image to ./data/IMAGE/LIDC-IDRI-0012\n",
      "Writing image to ./data/IMAGE/LIDC-IDRI-0012\n",
      "Writing image to ./data/IMAGE/LIDC-IDRI-0012\n",
      "Writing image to ./data/IMAGE/LIDC-IDRI-0012\n",
      "Writing image to ./data/IMAGE/LIDC-IDRI-0012\n",
      "Writing image to ./data/IMAGE/LIDC-IDRI-0012\n",
      "Writing image to ./data/IMAGE/LIDC-IDRI-0012\n",
      "Writing image to ./data/IMAGE/LIDC-IDRI-0012\n",
      "Writing image to ./data/IMAGE/LIDC-IDRI-0012\n",
      "Writing image to ./data/IMAGE/LIDC-IDRI-0012\n",
      "Writing image to ./data/IMAGE/LIDC-IDRI-0012\n",
      "Writing image to ./data/IMAGE/LIDC-IDRI-0012\n",
      "Writing image to ./data/IMAGE/LIDC-IDRI-0012\n",
      "Writing image to ./data/IMAGE/LIDC-IDRI-0012\n",
      "Writing image to ./data/IMAGE/LIDC-IDRI-0012\n",
      "Writing image to ./data/IMAGE/LIDC-IDRI-0012\n",
      "Writing image to ./data/IMAGE/LIDC-IDRI-0012\n",
      "Writing image to ./data/IMAGE/LIDC-IDRI-0012\n",
      "Writing image to ./data/IMAGE/LIDC-IDRI-0012\n",
      "Writing image to ./data/IMAGE/LIDC-IDRI-0012\n"
     ]
    },
    {
     "name": "stderr",
     "output_type": "stream",
     "text": [
      "\r",
      " 40%|██████████████████████████████████████████████████████████████████████████████████████████████████████████████▊                                                                                                                                                                      | 12/30 [03:15<06:27, 21.55s/it]"
     ]
    },
    {
     "name": "stdout",
     "output_type": "stream",
     "text": [
      "Writing image to ./data/IMAGE/LIDC-IDRI-0012\n",
      "Saving CSV\n",
      "Loading dicom files ... This may take a moment.\n",
      "Writing image to ./data/IMAGE/LIDC-IDRI-0013\n",
      "Writing image to ./data/IMAGE/LIDC-IDRI-0013\n",
      "Writing image to ./data/IMAGE/LIDC-IDRI-0013\n",
      "Writing image to ./data/IMAGE/LIDC-IDRI-0013\n",
      "Writing image to ./data/IMAGE/LIDC-IDRI-0013\n",
      "Writing image to ./data/IMAGE/LIDC-IDRI-0013\n",
      "Writing image to ./data/IMAGE/LIDC-IDRI-0013\n",
      "Writing image to ./data/IMAGE/LIDC-IDRI-0013\n",
      "Writing image to ./data/IMAGE/LIDC-IDRI-0013\n",
      "Writing image to ./data/IMAGE/LIDC-IDRI-0013\n",
      "Writing image to ./data/IMAGE/LIDC-IDRI-0013\n",
      "Writing image to ./data/IMAGE/LIDC-IDRI-0013\n",
      "Writing image to ./data/IMAGE/LIDC-IDRI-0013\n",
      "Writing image to ./data/IMAGE/LIDC-IDRI-0013\n",
      "Writing image to ./data/IMAGE/LIDC-IDRI-0013\n"
     ]
    },
    {
     "name": "stderr",
     "output_type": "stream",
     "text": [
      "\r",
      " 43%|████████████████████████████████████████████████████████████████████████████████████████████████████████████████████████                                                                                                                                                             | 13/30 [03:32<05:40, 20.01s/it]"
     ]
    },
    {
     "name": "stdout",
     "output_type": "stream",
     "text": [
      "Writing image to ./data/IMAGE/LIDC-IDRI-0013\n",
      "Saving CSV\n",
      "Loading dicom files ... This may take a moment.\n",
      "Writing image to ./data/IMAGE/LIDC-IDRI-0014\n",
      "Writing image to ./data/IMAGE/LIDC-IDRI-0014\n",
      "Writing image to ./data/IMAGE/LIDC-IDRI-0014\n",
      "Writing image to ./data/IMAGE/LIDC-IDRI-0014\n",
      "Writing image to ./data/IMAGE/LIDC-IDRI-0014\n"
     ]
    },
    {
     "name": "stderr",
     "output_type": "stream",
     "text": [
      "\r",
      " 47%|█████████████████████████████████████████████████████████████████████████████████████████████████████████████████████████████████▎                                                                                                                                                   | 14/30 [03:39<04:18, 16.16s/it]"
     ]
    },
    {
     "name": "stdout",
     "output_type": "stream",
     "text": [
      "Writing image to ./data/IMAGE/LIDC-IDRI-0014\n",
      "Saving CSV\n",
      "Loading dicom files ... This may take a moment.\n",
      "Writing image to ./data/IMAGE/LIDC-IDRI-0015\n",
      "Writing image to ./data/IMAGE/LIDC-IDRI-0015\n",
      "Writing image to ./data/IMAGE/LIDC-IDRI-0015\n",
      "Writing image to ./data/IMAGE/LIDC-IDRI-0015\n",
      "Writing image to ./data/IMAGE/LIDC-IDRI-0015\n",
      "Writing image to ./data/IMAGE/LIDC-IDRI-0015\n",
      "Writing image to ./data/IMAGE/LIDC-IDRI-0015\n",
      "Writing image to ./data/IMAGE/LIDC-IDRI-0015\n",
      "Writing image to ./data/IMAGE/LIDC-IDRI-0015\n",
      "Writing image to ./data/IMAGE/LIDC-IDRI-0015\n",
      "Writing image to ./data/IMAGE/LIDC-IDRI-0015\n",
      "Writing image to ./data/IMAGE/LIDC-IDRI-0015\n",
      "Writing image to ./data/IMAGE/LIDC-IDRI-0015\n",
      "Writing image to ./data/IMAGE/LIDC-IDRI-0015\n",
      "Writing image to ./data/IMAGE/LIDC-IDRI-0015\n"
     ]
    },
    {
     "name": "stderr",
     "output_type": "stream",
     "text": [
      "\r",
      " 50%|██████████████████████████████████████████████████████████████████████████████████████████████████████████████████████████████████████████▌                                                                                                                                          | 15/30 [03:57<04:07, 16.52s/it]"
     ]
    },
    {
     "name": "stdout",
     "output_type": "stream",
     "text": [
      "Writing image to ./data/IMAGE/LIDC-IDRI-0015\n",
      "Saving CSV\n",
      "Loading dicom files ... This may take a moment.\n",
      "Writing image to ./data/IMAGE/LIDC-IDRI-0016\n",
      "Writing image to ./data/IMAGE/LIDC-IDRI-0016\n",
      "Writing image to ./data/IMAGE/LIDC-IDRI-0016\n",
      "Writing image to ./data/IMAGE/LIDC-IDRI-0016\n",
      "Writing image to ./data/IMAGE/LIDC-IDRI-0016\n",
      "Writing image to ./data/IMAGE/LIDC-IDRI-0016\n",
      "Writing image to ./data/IMAGE/LIDC-IDRI-0016\n",
      "Writing image to ./data/IMAGE/LIDC-IDRI-0016\n",
      "Writing image to ./data/IMAGE/LIDC-IDRI-0016\n",
      "Writing image to ./data/IMAGE/LIDC-IDRI-0016\n",
      "Writing image to ./data/IMAGE/LIDC-IDRI-0016\n",
      "Writing image to ./data/IMAGE/LIDC-IDRI-0016\n",
      "Writing image to ./data/IMAGE/LIDC-IDRI-0016\n",
      "Writing image to ./data/IMAGE/LIDC-IDRI-0016\n",
      "Writing image to ./data/IMAGE/LIDC-IDRI-0016\n",
      "Writing image to ./data/IMAGE/LIDC-IDRI-0016\n",
      "Writing image to ./data/IMAGE/LIDC-IDRI-0016\n",
      "Writing image to ./data/IMAGE/LIDC-IDRI-0016\n",
      "Writing image to ./data/IMAGE/LIDC-IDRI-0016\n",
      "Writing image to ./data/IMAGE/LIDC-IDRI-0016\n",
      "Writing image to ./data/IMAGE/LIDC-IDRI-0016\n"
     ]
    },
    {
     "name": "stderr",
     "output_type": "stream",
     "text": [
      "\r",
      " 53%|███████████████████████████████████████████████████████████████████████████████████████████████████████████████████████████████████████████████████▋                                                                                                                                 | 16/30 [04:22<04:28, 19.20s/it]"
     ]
    },
    {
     "name": "stdout",
     "output_type": "stream",
     "text": [
      "Writing image to ./data/IMAGE/LIDC-IDRI-0016\n",
      "Saving CSV\n",
      "Loading dicom files ... This may take a moment.\n",
      "Writing image to ./data/IMAGE/LIDC-IDRI-0017\n",
      "Writing image to ./data/IMAGE/LIDC-IDRI-0017\n",
      "Writing image to ./data/IMAGE/LIDC-IDRI-0017\n",
      "Writing image to ./data/IMAGE/LIDC-IDRI-0017\n"
     ]
    },
    {
     "name": "stderr",
     "output_type": "stream",
     "text": [
      "\r",
      " 57%|████████████████████████████████████████████████████████████████████████████████████████████████████████████████████████████████████████████████████████████▉                                                                                                                        | 17/30 [04:28<03:19, 15.34s/it]"
     ]
    },
    {
     "name": "stdout",
     "output_type": "stream",
     "text": [
      "Writing image to ./data/IMAGE/LIDC-IDRI-0017\n",
      "Saving CSV\n",
      "Loading dicom files ... This may take a moment.\n",
      "Writing image to ./data/IMAGE/LIDC-IDRI-0018\n",
      "Writing image to ./data/IMAGE/LIDC-IDRI-0018\n",
      "Writing image to ./data/IMAGE/LIDC-IDRI-0018\n",
      "Writing image to ./data/IMAGE/LIDC-IDRI-0018\n",
      "Writing image to ./data/IMAGE/LIDC-IDRI-0018\n",
      "Writing image to ./data/IMAGE/LIDC-IDRI-0018\n",
      "Writing image to ./data/IMAGE/LIDC-IDRI-0018\n",
      "Writing image to ./data/IMAGE/LIDC-IDRI-0018\n",
      "Writing image to ./data/IMAGE/LIDC-IDRI-0018\n",
      "Writing image to ./data/IMAGE/LIDC-IDRI-0018\n",
      "Writing image to ./data/IMAGE/LIDC-IDRI-0018\n",
      "Writing image to ./data/IMAGE/LIDC-IDRI-0018\n",
      "Writing image to ./data/IMAGE/LIDC-IDRI-0018\n"
     ]
    },
    {
     "name": "stderr",
     "output_type": "stream",
     "text": [
      "\r",
      " 60%|██████████████████████████████████████████████████████████████████████████████████████████████████████████████████████████████████████████████████████████████████████▏                                                                                                              | 18/30 [04:45<03:08, 15.72s/it]"
     ]
    },
    {
     "name": "stdout",
     "output_type": "stream",
     "text": [
      "Writing image to ./data/IMAGE/LIDC-IDRI-0018\n",
      "Saving CSV\n",
      "Loading dicom files ... This may take a moment.\n",
      "Writing image to ./data/IMAGE/LIDC-IDRI-0019\n",
      "Writing image to ./data/IMAGE/LIDC-IDRI-0019\n",
      "Writing image to ./data/IMAGE/LIDC-IDRI-0019\n",
      "Writing image to ./data/IMAGE/LIDC-IDRI-0019\n",
      "Writing image to ./data/IMAGE/LIDC-IDRI-0019\n",
      "Writing image to ./data/IMAGE/LIDC-IDRI-0019\n",
      "Writing image to ./data/IMAGE/LIDC-IDRI-0019\n",
      "Writing image to ./data/IMAGE/LIDC-IDRI-0019\n",
      "Writing image to ./data/IMAGE/LIDC-IDRI-0019\n",
      "Writing image to ./data/IMAGE/LIDC-IDRI-0019\n",
      "Writing image to ./data/IMAGE/LIDC-IDRI-0019\n",
      "Writing image to ./data/IMAGE/LIDC-IDRI-0019\n",
      "Writing image to ./data/IMAGE/LIDC-IDRI-0019\n",
      "Writing image to ./data/IMAGE/LIDC-IDRI-0019\n",
      "Writing image to ./data/IMAGE/LIDC-IDRI-0019\n",
      "Writing image to ./data/IMAGE/LIDC-IDRI-0019\n",
      "Writing image to ./data/IMAGE/LIDC-IDRI-0019\n",
      "Writing image to ./data/IMAGE/LIDC-IDRI-0019\n",
      "Writing image to ./data/IMAGE/LIDC-IDRI-0019\n",
      "Writing image to ./data/IMAGE/LIDC-IDRI-0019\n",
      "Writing image to ./data/IMAGE/LIDC-IDRI-0019\n",
      "Writing image to ./data/IMAGE/LIDC-IDRI-0019\n",
      "Writing image to ./data/IMAGE/LIDC-IDRI-0019\n"
     ]
    },
    {
     "name": "stderr",
     "output_type": "stream",
     "text": [
      "\r",
      " 63%|███████████████████████████████████████████████████████████████████████████████████████████████████████████████████████████████████████████████████████████████████████████████▍                                                                                                     | 19/30 [05:06<03:10, 17.31s/it]"
     ]
    },
    {
     "name": "stdout",
     "output_type": "stream",
     "text": [
      "Writing image to ./data/IMAGE/LIDC-IDRI-0019\n",
      "Saving CSV\n",
      "Loading dicom files ... This may take a moment.\n",
      "Writing image to ./data/IMAGE/LIDC-IDRI-0020\n",
      "Writing image to ./data/IMAGE/LIDC-IDRI-0020\n",
      "Writing image to ./data/IMAGE/LIDC-IDRI-0020\n",
      "Writing image to ./data/IMAGE/LIDC-IDRI-0020\n",
      "Writing image to ./data/IMAGE/LIDC-IDRI-0020\n",
      "Writing image to ./data/IMAGE/LIDC-IDRI-0020\n",
      "Writing image to ./data/IMAGE/LIDC-IDRI-0020\n",
      "Writing image to ./data/IMAGE/LIDC-IDRI-0020\n",
      "Writing image to ./data/IMAGE/LIDC-IDRI-0020\n",
      "Writing image to ./data/IMAGE/LIDC-IDRI-0020\n",
      "Writing image to ./data/IMAGE/LIDC-IDRI-0020\n",
      "Writing image to ./data/IMAGE/LIDC-IDRI-0020\n",
      "Writing image to ./data/IMAGE/LIDC-IDRI-0020\n",
      "Writing image to ./data/IMAGE/LIDC-IDRI-0020\n",
      "Writing image to ./data/IMAGE/LIDC-IDRI-0020\n",
      "Writing image to ./data/IMAGE/LIDC-IDRI-0020\n",
      "Writing image to ./data/IMAGE/LIDC-IDRI-0020\n",
      "Writing image to ./data/IMAGE/LIDC-IDRI-0020\n"
     ]
    },
    {
     "name": "stderr",
     "output_type": "stream",
     "text": [
      "\r",
      " 67%|████████████████████████████████████████████████████████████████████████████████████████████████████████████████████████████████████████████████████████████████████████████████████████▋                                                                                            | 20/30 [05:22<02:49, 16.97s/it]"
     ]
    },
    {
     "name": "stdout",
     "output_type": "stream",
     "text": [
      "Writing image to ./data/IMAGE/LIDC-IDRI-0020\n",
      "Saving CSV\n",
      "Loading dicom files ... This may take a moment.\n",
      "Writing image to ./data/IMAGE/LIDC-IDRI-0021\n",
      "Writing image to ./data/IMAGE/LIDC-IDRI-0021\n",
      "Writing image to ./data/IMAGE/LIDC-IDRI-0021\n",
      "Writing image to ./data/IMAGE/LIDC-IDRI-0021\n",
      "Writing image to ./data/IMAGE/LIDC-IDRI-0021\n",
      "Writing image to ./data/IMAGE/LIDC-IDRI-0021\n",
      "Writing image to ./data/IMAGE/LIDC-IDRI-0021\n",
      "Writing image to ./data/IMAGE/LIDC-IDRI-0021\n",
      "Writing image to ./data/IMAGE/LIDC-IDRI-0021\n",
      "Writing image to ./data/IMAGE/LIDC-IDRI-0021\n"
     ]
    },
    {
     "name": "stderr",
     "output_type": "stream",
     "text": [
      "\r",
      " 70%|█████████████████████████████████████████████████████████████████████████████████████████████████████████████████████████████████████████████████████████████████████████████████████████████████▉                                                                                   | 21/30 [05:33<02:16, 15.17s/it]"
     ]
    },
    {
     "name": "stdout",
     "output_type": "stream",
     "text": [
      "Writing image to ./data/IMAGE/LIDC-IDRI-0021\n",
      "Saving CSV\n",
      "Loading dicom files ... This may take a moment.\n",
      "Writing image to ./data/IMAGE/LIDC-IDRI-0022\n",
      "Writing image to ./data/IMAGE/LIDC-IDRI-0022\n",
      "Writing image to ./data/IMAGE/LIDC-IDRI-0022\n",
      "Writing image to ./data/IMAGE/LIDC-IDRI-0022\n",
      "Writing image to ./data/IMAGE/LIDC-IDRI-0022\n",
      "Writing image to ./data/IMAGE/LIDC-IDRI-0022\n",
      "Writing image to ./data/IMAGE/LIDC-IDRI-0022\n",
      "Writing image to ./data/IMAGE/LIDC-IDRI-0022\n",
      "Writing image to ./data/IMAGE/LIDC-IDRI-0022\n",
      "Writing image to ./data/IMAGE/LIDC-IDRI-0022\n"
     ]
    },
    {
     "name": "stderr",
     "output_type": "stream",
     "text": [
      "\r",
      " 73%|███████████████████████████████████████████████████████████████████████████████████████████████████████████████████████████████████████████████████████████████████████████████████████████████████████████▏                                                                         | 22/30 [05:43<01:48, 13.55s/it]"
     ]
    },
    {
     "name": "stdout",
     "output_type": "stream",
     "text": [
      "Writing image to ./data/IMAGE/LIDC-IDRI-0022\n",
      "Saving CSV\n",
      "Loading dicom files ... This may take a moment.\n",
      "Writing image to ./data/IMAGE/LIDC-IDRI-0023\n",
      "Writing image to ./data/IMAGE/LIDC-IDRI-0023\n",
      "Writing image to ./data/IMAGE/LIDC-IDRI-0023\n",
      "Writing image to ./data/IMAGE/LIDC-IDRI-0023\n",
      "Writing image to ./data/IMAGE/LIDC-IDRI-0023\n",
      "Writing image to ./data/IMAGE/LIDC-IDRI-0023\n",
      "Writing image to ./data/IMAGE/LIDC-IDRI-0023\n",
      "Writing image to ./data/IMAGE/LIDC-IDRI-0023\n",
      "Writing image to ./data/IMAGE/LIDC-IDRI-0023\n",
      "Writing image to ./data/IMAGE/LIDC-IDRI-0023\n"
     ]
    },
    {
     "name": "stderr",
     "output_type": "stream",
     "text": [
      "\r",
      " 77%|████████████████████████████████████████████████████████████████████████████████████████████████████████████████████████████████████████████████████████████████████████████████████████████████████████████████████▎                                                                | 23/30 [05:57<01:36, 13.83s/it]"
     ]
    },
    {
     "name": "stdout",
     "output_type": "stream",
     "text": [
      "Writing image to ./data/IMAGE/LIDC-IDRI-0023\n",
      "Saving CSV\n",
      "Loading dicom files ... This may take a moment.\n",
      "Writing image to ./data/IMAGE/LIDC-IDRI-0024\n",
      "Writing image to ./data/IMAGE/LIDC-IDRI-0024\n",
      "Writing image to ./data/IMAGE/LIDC-IDRI-0024\n",
      "Writing image to ./data/IMAGE/LIDC-IDRI-0024\n",
      "Writing image to ./data/IMAGE/LIDC-IDRI-0024\n",
      "Writing image to ./data/IMAGE/LIDC-IDRI-0024\n",
      "Writing image to ./data/IMAGE/LIDC-IDRI-0024\n",
      "Writing image to ./data/IMAGE/LIDC-IDRI-0024\n",
      "Writing image to ./data/IMAGE/LIDC-IDRI-0024\n",
      "Writing image to ./data/IMAGE/LIDC-IDRI-0024\n",
      "Writing image to ./data/IMAGE/LIDC-IDRI-0024\n"
     ]
    },
    {
     "name": "stderr",
     "output_type": "stream",
     "text": [
      "\r",
      " 80%|█████████████████████████████████████████████████████████████████████████████████████████████████████████████████████████████████████████████████████████████████████████████████████████████████████████████████████████████▌                                                       | 24/30 [06:11<01:21, 13.65s/it]"
     ]
    },
    {
     "name": "stdout",
     "output_type": "stream",
     "text": [
      "Writing image to ./data/IMAGE/LIDC-IDRI-0024\n",
      "Saving CSV\n",
      "Loading dicom files ... This may take a moment.\n",
      "Writing image to ./data/IMAGE/LIDC-IDRI-0025\n",
      "Writing image to ./data/IMAGE/LIDC-IDRI-0025\n"
     ]
    },
    {
     "name": "stderr",
     "output_type": "stream",
     "text": [
      "\r",
      " 83%|██████████████████████████████████████████████████████████████████████████████████████████████████████████████████████████████████████████████████████████████████████████████████████████████████████████████████████████████████████▊                                              | 25/30 [06:15<00:54, 10.91s/it]"
     ]
    },
    {
     "name": "stdout",
     "output_type": "stream",
     "text": [
      "Writing image to ./data/IMAGE/LIDC-IDRI-0025\n",
      "Saving CSV\n",
      "Loading dicom files ... This may take a moment.\n",
      "Writing image to ./data/IMAGE/LIDC-IDRI-0026\n",
      "Writing image to ./data/IMAGE/LIDC-IDRI-0026\n",
      "Writing image to ./data/IMAGE/LIDC-IDRI-0026\n",
      "Writing image to ./data/IMAGE/LIDC-IDRI-0026\n"
     ]
    },
    {
     "name": "stderr",
     "output_type": "stream",
     "text": [
      "\r",
      " 87%|████████████████████████████████████████████████████████████████████████████████████████████████████████████████████████████████████████████████████████████████████████████████████████████████████████████████████████████████████████████████                                     | 26/30 [06:22<00:38,  9.67s/it]"
     ]
    },
    {
     "name": "stdout",
     "output_type": "stream",
     "text": [
      "Writing image to ./data/IMAGE/LIDC-IDRI-0026\n",
      "Saving CSV\n",
      "Loading dicom files ... This may take a moment.\n",
      "Writing image to ./data/IMAGE/LIDC-IDRI-0027\n",
      "Writing image to ./data/IMAGE/LIDC-IDRI-0027\n",
      "Writing image to ./data/IMAGE/LIDC-IDRI-0027\n",
      "Writing image to ./data/IMAGE/LIDC-IDRI-0027\n",
      "Writing image to ./data/IMAGE/LIDC-IDRI-0027\n",
      "Writing image to ./data/IMAGE/LIDC-IDRI-0027\n",
      "Writing image to ./data/IMAGE/LIDC-IDRI-0027\n",
      "Writing image to ./data/IMAGE/LIDC-IDRI-0027\n",
      "Writing image to ./data/IMAGE/LIDC-IDRI-0027\n",
      "Writing image to ./data/IMAGE/LIDC-IDRI-0027\n",
      "Writing image to ./data/IMAGE/LIDC-IDRI-0027\n",
      "Writing image to ./data/IMAGE/LIDC-IDRI-0027\n",
      "Writing image to ./data/IMAGE/LIDC-IDRI-0027\n",
      "Writing image to ./data/IMAGE/LIDC-IDRI-0027\n",
      "Writing image to ./data/IMAGE/LIDC-IDRI-0027\n",
      "Writing image to ./data/IMAGE/LIDC-IDRI-0027\n",
      "Writing image to ./data/IMAGE/LIDC-IDRI-0027\n",
      "Writing image to ./data/IMAGE/LIDC-IDRI-0027\n",
      "Writing image to ./data/IMAGE/LIDC-IDRI-0027\n"
     ]
    },
    {
     "name": "stderr",
     "output_type": "stream",
     "text": [
      "\r",
      " 90%|█████████████████████████████████████████████████████████████████████████████████████████████████████████████████████████████████████████████████████████████████████████████████████████████████████████████████████████████████████████████████████████▎                           | 27/30 [06:41<00:37, 12.52s/it]"
     ]
    },
    {
     "name": "stdout",
     "output_type": "stream",
     "text": [
      "Writing image to ./data/IMAGE/LIDC-IDRI-0027\n",
      "Saving CSV\n",
      "Loading dicom files ... This may take a moment.\n",
      "no nodules LIDC-IDRI-0028\n"
     ]
    },
    {
     "name": "stderr",
     "output_type": "stream",
     "text": [
      "\r",
      " 93%|██████████████████████████████████████████████████████████████████████████████████████████████████████████████████████████████████████████████████████████████████████████████████████████████████████████████████████████████████████████████████████████████████▌                  | 28/30 [07:11<00:35, 17.69s/it]"
     ]
    },
    {
     "name": "stdout",
     "output_type": "stream",
     "text": [
      "Saving CSV\n",
      "Loading dicom files ... This may take a moment.\n",
      "Writing image to ./data/IMAGE/LIDC-IDRI-0029\n",
      "Writing image to ./data/IMAGE/LIDC-IDRI-0029\n",
      "Writing image to ./data/IMAGE/LIDC-IDRI-0029\n",
      "Writing image to ./data/IMAGE/LIDC-IDRI-0029\n",
      "Writing image to ./data/IMAGE/LIDC-IDRI-0029\n",
      "Writing image to ./data/IMAGE/LIDC-IDRI-0029\n",
      "Writing image to ./data/IMAGE/LIDC-IDRI-0029\n",
      "Writing image to ./data/IMAGE/LIDC-IDRI-0029\n",
      "Writing image to ./data/IMAGE/LIDC-IDRI-0029\n",
      "Writing image to ./data/IMAGE/LIDC-IDRI-0029\n",
      "Writing image to ./data/IMAGE/LIDC-IDRI-0029\n",
      "Writing image to ./data/IMAGE/LIDC-IDRI-0029\n",
      "Writing image to ./data/IMAGE/LIDC-IDRI-0029\n",
      "Writing image to ./data/IMAGE/LIDC-IDRI-0029\n",
      "Writing image to ./data/IMAGE/LIDC-IDRI-0029\n",
      "Writing image to ./data/IMAGE/LIDC-IDRI-0029\n",
      "Writing image to ./data/IMAGE/LIDC-IDRI-0029\n",
      "Writing image to ./data/IMAGE/LIDC-IDRI-0029\n"
     ]
    },
    {
     "name": "stderr",
     "output_type": "stream",
     "text": [
      "\r",
      " 97%|███████████████████████████████████████████████████████████████████████████████████████████████████████████████████████████████████████████████████████████████████████████████████████████████████████████████████████████████████████████████████████████████████████████▊         | 29/30 [07:28<00:17, 17.42s/it]"
     ]
    },
    {
     "name": "stdout",
     "output_type": "stream",
     "text": [
      "Writing image to ./data/IMAGE/LIDC-IDRI-0029\n",
      "Saving CSV\n",
      "Loading dicom files ... This may take a moment.\n",
      "Writing image to ./data/IMAGE/LIDC-IDRI-0030\n",
      "Writing image to ./data/IMAGE/LIDC-IDRI-0030\n",
      "Writing image to ./data/IMAGE/LIDC-IDRI-0030\n",
      "Writing image to ./data/IMAGE/LIDC-IDRI-0030\n"
     ]
    },
    {
     "name": "stderr",
     "output_type": "stream",
     "text": [
      "100%|█████████████████████████████████████████████████████████████████████████████████████████████████████████████████████████████████████████████████████████████████████████████████████████████████████████████████████████████████████████████████████████████████████████████████████| 30/30 [07:34<00:00, 15.14s/it]"
     ]
    },
    {
     "name": "stdout",
     "output_type": "stream",
     "text": [
      "Writing image to ./data/IMAGE/LIDC-IDRI-0030\n",
      "Saving CSV\n"
     ]
    },
    {
     "name": "stderr",
     "output_type": "stream",
     "text": [
      "\n"
     ]
    }
   ],
   "source": [
    "ds = prep_ds()\n",
    "ds.prepare_dataset()"
   ]
  },
  {
   "cell_type": "code",
   "execution_count": null,
   "id": "b780005c",
   "metadata": {},
   "outputs": [],
   "source": []
  }
 ],
 "metadata": {
  "kernelspec": {
   "display_name": "Python 3",
   "language": "python",
   "name": "python3"
  },
  "language_info": {
   "codemirror_mode": {
    "name": "ipython",
    "version": 3
   },
   "file_extension": ".py",
   "mimetype": "text/x-python",
   "name": "python",
   "nbconvert_exporter": "python",
   "pygments_lexer": "ipython3",
   "version": "3.7.10"
  }
 },
 "nbformat": 4,
 "nbformat_minor": 5
}
