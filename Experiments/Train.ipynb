{
 "cells": [
  {
   "cell_type": "code",
   "execution_count": 1,
   "id": "f8cf7267",
   "metadata": {},
   "outputs": [],
   "source": [
    "import pandas as pd"
   ]
  },
  {
   "cell_type": "code",
   "execution_count": 2,
   "id": "db89c06e",
   "metadata": {},
   "outputs": [],
   "source": [
    "DataSet_root = \"./LIDC-IDRI\"\n",
    "Processed_data_dir = './data'\n",
    "IMAGE_DIR = Processed_data_dir+ \"/Image\"\n",
    "MASK_DIR = Processed_data_dir +\"/Mask\"\n",
    "Clean_IMAGE_DIR =Processed_data_dir + '/CleanIMAGE'\n",
    "Clean_MASK_DIR = Processed_data_dir +'/CleanMASK'\n",
    "mask_thresh = 8"
   ]
  },
  {
   "cell_type": "code",
   "execution_count": 3,
   "id": "60881656",
   "metadata": {},
   "outputs": [],
   "source": [
    "dataset = pd.read_csv(Processed_data_dir + '/dataset.csv')"
   ]
  },
  {
   "cell_type": "code",
   "execution_count": 35,
   "id": "8babc742",
   "metadata": {},
   "outputs": [
    {
     "data": {
      "text/html": [
       "<div>\n",
       "<style scoped>\n",
       "    .dataframe tbody tr th:only-of-type {\n",
       "        vertical-align: middle;\n",
       "    }\n",
       "\n",
       "    .dataframe tbody tr th {\n",
       "        vertical-align: top;\n",
       "    }\n",
       "\n",
       "    .dataframe thead th {\n",
       "        text-align: right;\n",
       "    }\n",
       "</style>\n",
       "<table border=\"1\" class=\"dataframe\">\n",
       "  <thead>\n",
       "    <tr style=\"text-align: right;\">\n",
       "      <th></th>\n",
       "      <th>patient_id</th>\n",
       "      <th>nodule_no</th>\n",
       "      <th>slice_no</th>\n",
       "      <th>original_image</th>\n",
       "      <th>mask_image</th>\n",
       "      <th>malignancy</th>\n",
       "      <th>is_cancer</th>\n",
       "      <th>is_clean</th>\n",
       "    </tr>\n",
       "  </thead>\n",
       "  <tbody>\n",
       "    <tr>\n",
       "      <th>36</th>\n",
       "      <td>3</td>\n",
       "      <td>0</td>\n",
       "      <td>62</td>\n",
       "      <td>Nodule0Slice62</td>\n",
       "      <td>Mask0Slice62</td>\n",
       "      <td>2</td>\n",
       "      <td>False</td>\n",
       "      <td>False</td>\n",
       "    </tr>\n",
       "    <tr>\n",
       "      <th>37</th>\n",
       "      <td>3</td>\n",
       "      <td>0</td>\n",
       "      <td>63</td>\n",
       "      <td>Nodule0Slice63</td>\n",
       "      <td>Mask0Slice63</td>\n",
       "      <td>2</td>\n",
       "      <td>False</td>\n",
       "      <td>False</td>\n",
       "    </tr>\n",
       "    <tr>\n",
       "      <th>38</th>\n",
       "      <td>3</td>\n",
       "      <td>0</td>\n",
       "      <td>64</td>\n",
       "      <td>Nodule0Slice64</td>\n",
       "      <td>Mask0Slice64</td>\n",
       "      <td>2</td>\n",
       "      <td>False</td>\n",
       "      <td>False</td>\n",
       "    </tr>\n",
       "    <tr>\n",
       "      <th>39</th>\n",
       "      <td>3</td>\n",
       "      <td>0</td>\n",
       "      <td>65</td>\n",
       "      <td>Nodule0Slice65</td>\n",
       "      <td>Mask0Slice65</td>\n",
       "      <td>2</td>\n",
       "      <td>False</td>\n",
       "      <td>False</td>\n",
       "    </tr>\n",
       "    <tr>\n",
       "      <th>40</th>\n",
       "      <td>3</td>\n",
       "      <td>0</td>\n",
       "      <td>66</td>\n",
       "      <td>Nodule0Slice66</td>\n",
       "      <td>Mask0Slice66</td>\n",
       "      <td>2</td>\n",
       "      <td>False</td>\n",
       "      <td>False</td>\n",
       "    </tr>\n",
       "    <tr>\n",
       "      <th>...</th>\n",
       "      <td>...</td>\n",
       "      <td>...</td>\n",
       "      <td>...</td>\n",
       "      <td>...</td>\n",
       "      <td>...</td>\n",
       "      <td>...</td>\n",
       "      <td>...</td>\n",
       "      <td>...</td>\n",
       "    </tr>\n",
       "    <tr>\n",
       "      <th>351</th>\n",
       "      <td>25</td>\n",
       "      <td>0</td>\n",
       "      <td>224</td>\n",
       "      <td>Nodule0Slice224</td>\n",
       "      <td>Mask0Slice224</td>\n",
       "      <td>2</td>\n",
       "      <td>False</td>\n",
       "      <td>False</td>\n",
       "    </tr>\n",
       "    <tr>\n",
       "      <th>352</th>\n",
       "      <td>25</td>\n",
       "      <td>0</td>\n",
       "      <td>225</td>\n",
       "      <td>Nodule0Slice225</td>\n",
       "      <td>Mask0Slice225</td>\n",
       "      <td>2</td>\n",
       "      <td>False</td>\n",
       "      <td>False</td>\n",
       "    </tr>\n",
       "    <tr>\n",
       "      <th>353</th>\n",
       "      <td>26</td>\n",
       "      <td>0</td>\n",
       "      <td>89</td>\n",
       "      <td>Nodule0Slice89</td>\n",
       "      <td>Mask0Slice89</td>\n",
       "      <td>2</td>\n",
       "      <td>False</td>\n",
       "      <td>False</td>\n",
       "    </tr>\n",
       "    <tr>\n",
       "      <th>354</th>\n",
       "      <td>26</td>\n",
       "      <td>0</td>\n",
       "      <td>90</td>\n",
       "      <td>Nodule0Slice90</td>\n",
       "      <td>Mask0Slice90</td>\n",
       "      <td>2</td>\n",
       "      <td>False</td>\n",
       "      <td>False</td>\n",
       "    </tr>\n",
       "    <tr>\n",
       "      <th>377</th>\n",
       "      <td>27</td>\n",
       "      <td>6</td>\n",
       "      <td>118</td>\n",
       "      <td>Nodule6Slice118</td>\n",
       "      <td>Mask6Slice118</td>\n",
       "      <td>2</td>\n",
       "      <td>False</td>\n",
       "      <td>False</td>\n",
       "    </tr>\n",
       "  </tbody>\n",
       "</table>\n",
       "<p>87 rows × 8 columns</p>\n",
       "</div>"
      ],
      "text/plain": [
       "     patient_id  nodule_no  slice_no   original_image     mask_image  \\\n",
       "36            3          0        62   Nodule0Slice62   Mask0Slice62   \n",
       "37            3          0        63   Nodule0Slice63   Mask0Slice63   \n",
       "38            3          0        64   Nodule0Slice64   Mask0Slice64   \n",
       "39            3          0        65   Nodule0Slice65   Mask0Slice65   \n",
       "40            3          0        66   Nodule0Slice66   Mask0Slice66   \n",
       "..          ...        ...       ...              ...            ...   \n",
       "351          25          0       224  Nodule0Slice224  Mask0Slice224   \n",
       "352          25          0       225  Nodule0Slice225  Mask0Slice225   \n",
       "353          26          0        89   Nodule0Slice89   Mask0Slice89   \n",
       "354          26          0        90   Nodule0Slice90   Mask0Slice90   \n",
       "377          27          6       118  Nodule6Slice118  Mask6Slice118   \n",
       "\n",
       "     malignancy is_cancer  is_clean  \n",
       "36            2     False     False  \n",
       "37            2     False     False  \n",
       "38            2     False     False  \n",
       "39            2     False     False  \n",
       "40            2     False     False  \n",
       "..          ...       ...       ...  \n",
       "351           2     False     False  \n",
       "352           2     False     False  \n",
       "353           2     False     False  \n",
       "354           2     False     False  \n",
       "377           2     False     False  \n",
       "\n",
       "[87 rows x 8 columns]"
      ]
     },
     "execution_count": 35,
     "metadata": {},
     "output_type": "execute_result"
    }
   ],
   "source": [
    "dataset[dataset[\"is_cancer\"]=='False']"
   ]
  },
  {
   "cell_type": "code",
   "execution_count": 36,
   "id": "c2f10eef",
   "metadata": {},
   "outputs": [
    {
     "data": {
      "text/plain": [
       "True         223\n",
       "Ambiguous     92\n",
       "False         87\n",
       "Name: is_cancer, dtype: int64"
      ]
     },
     "execution_count": 36,
     "metadata": {},
     "output_type": "execute_result"
    }
   ],
   "source": [
    "dataset[\"is_cancer\"].value_counts()"
   ]
  },
  {
   "cell_type": "code",
   "execution_count": 49,
   "id": "35d4350b",
   "metadata": {},
   "outputs": [
    {
     "data": {
      "text/plain": [
       "patient_id        92\n",
       "nodule_no         92\n",
       "slice_no          92\n",
       "original_image    92\n",
       "mask_image        92\n",
       "malignancy        92\n",
       "is_cancer         92\n",
       "is_clean          92\n",
       "dtype: int64"
      ]
     },
     "execution_count": 49,
     "metadata": {},
     "output_type": "execute_result"
    }
   ],
   "source": [
    "dataset[dataset[\"is_cancer\"]==\"Ambiguous\"].count()"
   ]
  },
  {
   "cell_type": "code",
   "execution_count": 56,
   "id": "e391aaf9",
   "metadata": {},
   "outputs": [],
   "source": [
    "def balance_dataset(dataset):\n",
    "    balance_count = min(dataset[dataset[\"is_cancer\"]==\"False\"].count()[0],min(dataset[dataset[\"is_cancer\"]==\"True\"].count()[0],dataset[dataset[\"is_cancer\"]==\"Ambiguous\"].count()[0]))\n",
    "    sampled_ds = pd.DataFrame(index=[],columns=['patient_id','nodule_no','slice_no','original_image','mask_image','malignancy','is_cancer','is_clean'])\n",
    "    sampled_ds = sampled_ds.append(dataset[dataset[\"is_cancer\"]==\"Ambiguous\"].sample(balance_count))\n",
    "    sampled_ds = sampled_ds.append(dataset[dataset[\"is_cancer\"]==\"True\"].sample(balance_count))\n",
    "    sampled_ds = sampled_ds.append(dataset[dataset[\"is_cancer\"]==\"False\"].sample(balance_count))\n",
    "    return sampled_ds"
   ]
  },
  {
   "cell_type": "code",
   "execution_count": 58,
   "id": "da8ef92e",
   "metadata": {},
   "outputs": [],
   "source": [
    "balanced_ds = balance_dataset(dataset)"
   ]
  },
  {
   "cell_type": "code",
   "execution_count": null,
   "id": "2a26f090",
   "metadata": {},
   "outputs": [],
   "source": [
    "balanced_ds[\"mask_image\"]"
   ]
  }
 ],
 "metadata": {
  "kernelspec": {
   "display_name": "Python 3",
   "language": "python",
   "name": "python3"
  },
  "language_info": {
   "codemirror_mode": {
    "name": "ipython",
    "version": 3
   },
   "file_extension": ".py",
   "mimetype": "text/x-python",
   "name": "python",
   "nbconvert_exporter": "python",
   "pygments_lexer": "ipython3",
   "version": "3.7.10"
  }
 },
 "nbformat": 4,
 "nbformat_minor": 5
}
